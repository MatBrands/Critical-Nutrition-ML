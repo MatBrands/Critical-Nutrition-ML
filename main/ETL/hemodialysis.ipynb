{
  "cells": [
    {
      "cell_type": "markdown",
      "metadata": {},
      "source": [
        "# Script"
      ]
    },
    {
      "cell_type": "code",
      "execution_count": 1,
      "metadata": {
        "id": "pUv_2aXhgxP4"
      },
      "outputs": [],
      "source": [
        "import numpy as np\n",
        "import pandas as pd"
      ]
    },
    {
      "cell_type": "markdown",
      "metadata": {},
      "source": [
        "## ICUp5NewWindow24"
      ]
    },
    {
      "cell_type": "code",
      "execution_count": 2,
      "metadata": {},
      "outputs": [
        {
          "data": {
            "text/html": [
              "<div>\n",
              "<style scoped>\n",
              "    .dataframe tbody tr th:only-of-type {\n",
              "        vertical-align: middle;\n",
              "    }\n",
              "\n",
              "    .dataframe tbody tr th {\n",
              "        vertical-align: top;\n",
              "    }\n",
              "\n",
              "    .dataframe thead th {\n",
              "        text-align: right;\n",
              "    }\n",
              "</style>\n",
              "<table border=\"1\" class=\"dataframe\">\n",
              "  <thead>\n",
              "    <tr style=\"text-align: right;\">\n",
              "      <th></th>\n",
              "      <th>subject_id</th>\n",
              "      <th>day</th>\n",
              "      <th>start_time</th>\n",
              "      <th>end_time</th>\n",
              "      <th>diff_end_start</th>\n",
              "    </tr>\n",
              "  </thead>\n",
              "  <tbody>\n",
              "    <tr>\n",
              "      <th>0</th>\n",
              "      <td>12088486</td>\n",
              "      <td>1</td>\n",
              "      <td>2135-02-07 03:03:00</td>\n",
              "      <td>2135-02-08 03:03:00</td>\n",
              "      <td>24.0</td>\n",
              "    </tr>\n",
              "    <tr>\n",
              "      <th>1</th>\n",
              "      <td>12088486</td>\n",
              "      <td>2</td>\n",
              "      <td>2135-02-08 03:03:00</td>\n",
              "      <td>2135-02-09 03:03:00</td>\n",
              "      <td>24.0</td>\n",
              "    </tr>\n",
              "    <tr>\n",
              "      <th>2</th>\n",
              "      <td>12088486</td>\n",
              "      <td>3</td>\n",
              "      <td>2135-02-09 03:03:00</td>\n",
              "      <td>2135-02-10 03:03:00</td>\n",
              "      <td>24.0</td>\n",
              "    </tr>\n",
              "  </tbody>\n",
              "</table>\n",
              "</div>"
            ],
            "text/plain": [
              "   subject_id  day           start_time             end_time  diff_end_start\n",
              "0    12088486    1  2135-02-07 03:03:00  2135-02-08 03:03:00            24.0\n",
              "1    12088486    2  2135-02-08 03:03:00  2135-02-09 03:03:00            24.0\n",
              "2    12088486    3  2135-02-09 03:03:00  2135-02-10 03:03:00            24.0"
            ]
          },
          "execution_count": 2,
          "metadata": {},
          "output_type": "execute_result"
        }
      ],
      "source": [
        "df_window = pd.read_csv('./data/output/ICUp5NewWindow24.csv')\n",
        "df_window.head(3)"
      ]
    },
    {
      "cell_type": "code",
      "execution_count": 3,
      "metadata": {},
      "outputs": [
        {
          "name": "stdout",
          "output_type": "stream",
          "text": [
            "<class 'pandas.core.frame.DataFrame'>\n",
            "RangeIndex: 63005 entries, 0 to 63004\n",
            "Data columns (total 5 columns):\n",
            " #   Column          Non-Null Count  Dtype  \n",
            "---  ------          --------------  -----  \n",
            " 0   subject_id      63005 non-null  int64  \n",
            " 1   day             63005 non-null  int64  \n",
            " 2   start_time      63005 non-null  object \n",
            " 3   end_time        63005 non-null  object \n",
            " 4   diff_end_start  63005 non-null  float64\n",
            "dtypes: float64(1), int64(2), object(2)\n",
            "memory usage: 2.4+ MB\n"
          ]
        }
      ],
      "source": [
        "df_window.info()"
      ]
    },
    {
      "cell_type": "code",
      "execution_count": 4,
      "metadata": {},
      "outputs": [
        {
          "data": {
            "text/html": [
              "<div>\n",
              "<style scoped>\n",
              "    .dataframe tbody tr th:only-of-type {\n",
              "        vertical-align: middle;\n",
              "    }\n",
              "\n",
              "    .dataframe tbody tr th {\n",
              "        vertical-align: top;\n",
              "    }\n",
              "\n",
              "    .dataframe thead th {\n",
              "        text-align: right;\n",
              "    }\n",
              "</style>\n",
              "<table border=\"1\" class=\"dataframe\">\n",
              "  <thead>\n",
              "    <tr style=\"text-align: right;\">\n",
              "      <th></th>\n",
              "      <th>count</th>\n",
              "      <th>mean</th>\n",
              "      <th>std</th>\n",
              "      <th>min</th>\n",
              "      <th>25%</th>\n",
              "      <th>50%</th>\n",
              "      <th>75%</th>\n",
              "      <th>max</th>\n",
              "    </tr>\n",
              "  </thead>\n",
              "  <tbody>\n",
              "    <tr>\n",
              "      <th>subject_id</th>\n",
              "      <td>63005.0</td>\n",
              "      <td>1.506537e+07</td>\n",
              "      <td>2.875203e+06</td>\n",
              "      <td>10001884.0</td>\n",
              "      <td>12621244.0</td>\n",
              "      <td>15153936.0</td>\n",
              "      <td>17541976.0</td>\n",
              "      <td>19999840.0</td>\n",
              "    </tr>\n",
              "    <tr>\n",
              "      <th>day</th>\n",
              "      <td>63005.0</td>\n",
              "      <td>7.655091e+00</td>\n",
              "      <td>8.127624e+00</td>\n",
              "      <td>1.0</td>\n",
              "      <td>3.0</td>\n",
              "      <td>5.0</td>\n",
              "      <td>10.0</td>\n",
              "      <td>100.0</td>\n",
              "    </tr>\n",
              "    <tr>\n",
              "      <th>diff_end_start</th>\n",
              "      <td>63005.0</td>\n",
              "      <td>2.337211e+01</td>\n",
              "      <td>3.011440e+00</td>\n",
              "      <td>6.0</td>\n",
              "      <td>24.0</td>\n",
              "      <td>24.0</td>\n",
              "      <td>24.0</td>\n",
              "      <td>29.0</td>\n",
              "    </tr>\n",
              "  </tbody>\n",
              "</table>\n",
              "</div>"
            ],
            "text/plain": [
              "                  count          mean           std         min         25%   \n",
              "subject_id      63005.0  1.506537e+07  2.875203e+06  10001884.0  12621244.0  \\\n",
              "day             63005.0  7.655091e+00  8.127624e+00         1.0         3.0   \n",
              "diff_end_start  63005.0  2.337211e+01  3.011440e+00         6.0        24.0   \n",
              "\n",
              "                       50%         75%         max  \n",
              "subject_id      15153936.0  17541976.0  19999840.0  \n",
              "day                    5.0        10.0       100.0  \n",
              "diff_end_start        24.0        24.0        29.0  "
            ]
          },
          "execution_count": 4,
          "metadata": {},
          "output_type": "execute_result"
        }
      ],
      "source": [
        "df_window.describe().T"
      ]
    },
    {
      "cell_type": "code",
      "execution_count": 5,
      "metadata": {},
      "outputs": [],
      "source": [
        "data_types = {\n",
        "    'subject_id': 'int64',\n",
        "    'day': 'int64',\n",
        "    'start_time': 'datetime',\n",
        "    'end_time': 'datetime'\n",
        "}"
      ]
    },
    {
      "cell_type": "code",
      "execution_count": 6,
      "metadata": {},
      "outputs": [],
      "source": [
        "correct_format = '%Y-%m-%d %H:%M:%S'\n",
        "\n",
        "for col, dtype in data_types.items():\n",
        "    if dtype == 'datetime':\n",
        "        df_window[col] = pd.to_datetime(df_window[col], format=correct_format)\n",
        "    else:\n",
        "        df_window[col] = df_window[col].astype(dtype)"
      ]
    },
    {
      "cell_type": "markdown",
      "metadata": {},
      "source": [
        "### A partir desse ponto iremos realizar os procedimentos referentes as extrações específicas"
      ]
    },
    {
      "cell_type": "code",
      "execution_count": 7,
      "metadata": {},
      "outputs": [],
      "source": [
        "df_window.loc[:, 'hemodialysis'] = 0"
      ]
    },
    {
      "cell_type": "markdown",
      "metadata": {},
      "source": [
        "## ICUp5procedureevents"
      ]
    },
    {
      "cell_type": "code",
      "execution_count": 8,
      "metadata": {},
      "outputs": [
        {
          "data": {
            "text/html": [
              "<div>\n",
              "<style scoped>\n",
              "    .dataframe tbody tr th:only-of-type {\n",
              "        vertical-align: middle;\n",
              "    }\n",
              "\n",
              "    .dataframe tbody tr th {\n",
              "        vertical-align: top;\n",
              "    }\n",
              "\n",
              "    .dataframe thead th {\n",
              "        text-align: right;\n",
              "    }\n",
              "</style>\n",
              "<table border=\"1\" class=\"dataframe\">\n",
              "  <thead>\n",
              "    <tr style=\"text-align: right;\">\n",
              "      <th></th>\n",
              "      <th>subject_id</th>\n",
              "      <th>hadm_id</th>\n",
              "      <th>stay_id</th>\n",
              "      <th>caregiver_id</th>\n",
              "      <th>starttime</th>\n",
              "      <th>endtime</th>\n",
              "      <th>storetime</th>\n",
              "      <th>itemid</th>\n",
              "      <th>value</th>\n",
              "      <th>valueuom</th>\n",
              "      <th>...</th>\n",
              "      <th>orderid</th>\n",
              "      <th>linkorderid</th>\n",
              "      <th>ordercategoryname</th>\n",
              "      <th>ordercategorydescription</th>\n",
              "      <th>patientweight</th>\n",
              "      <th>isopenbag</th>\n",
              "      <th>continueinnextdept</th>\n",
              "      <th>statusdescription</th>\n",
              "      <th>originalamount</th>\n",
              "      <th>originalrate</th>\n",
              "    </tr>\n",
              "  </thead>\n",
              "  <tbody>\n",
              "    <tr>\n",
              "      <th>24</th>\n",
              "      <td>11592303</td>\n",
              "      <td>26632693</td>\n",
              "      <td>30117157</td>\n",
              "      <td>40703.0</td>\n",
              "      <td>2152-03-22 09:00:00.000000 UTC</td>\n",
              "      <td>2152-03-22 13:00:00.000000 UTC</td>\n",
              "      <td>2152-03-22 09:28:00.000000 UTC</td>\n",
              "      <td>225441</td>\n",
              "      <td>4.0</td>\n",
              "      <td>hour</td>\n",
              "      <td>...</td>\n",
              "      <td>5235845</td>\n",
              "      <td>5235845</td>\n",
              "      <td>Continuous Procedures</td>\n",
              "      <td>ContinuousProcess</td>\n",
              "      <td>42.0</td>\n",
              "      <td>0</td>\n",
              "      <td>0</td>\n",
              "      <td>FinishedRunning</td>\n",
              "      <td>4.0</td>\n",
              "      <td>1</td>\n",
              "    </tr>\n",
              "    <tr>\n",
              "      <th>33</th>\n",
              "      <td>18867021</td>\n",
              "      <td>28092989</td>\n",
              "      <td>38319765</td>\n",
              "      <td>NaN</td>\n",
              "      <td>2174-09-05 12:00:00.000000 UTC</td>\n",
              "      <td>2174-09-05 22:10:00.000000 UTC</td>\n",
              "      <td>2174-09-05 22:10:18.020000 UTC</td>\n",
              "      <td>225441</td>\n",
              "      <td>610.0</td>\n",
              "      <td>min</td>\n",
              "      <td>...</td>\n",
              "      <td>8739326</td>\n",
              "      <td>8739326</td>\n",
              "      <td>Continuous Procedures</td>\n",
              "      <td>ContinuousProcess</td>\n",
              "      <td>46.0</td>\n",
              "      <td>1</td>\n",
              "      <td>0</td>\n",
              "      <td>FinishedRunning</td>\n",
              "      <td>610.0</td>\n",
              "      <td>1</td>\n",
              "    </tr>\n",
              "    <tr>\n",
              "      <th>37</th>\n",
              "      <td>11802884</td>\n",
              "      <td>23555595</td>\n",
              "      <td>32191008</td>\n",
              "      <td>85606.0</td>\n",
              "      <td>2159-04-20 09:00:00.000000 UTC</td>\n",
              "      <td>2159-04-20 11:00:00.000000 UTC</td>\n",
              "      <td>2159-04-20 14:24:00.000000 UTC</td>\n",
              "      <td>225441</td>\n",
              "      <td>120.0</td>\n",
              "      <td>min</td>\n",
              "      <td>...</td>\n",
              "      <td>5731176</td>\n",
              "      <td>5731176</td>\n",
              "      <td>Continuous Procedures</td>\n",
              "      <td>ContinuousProcess</td>\n",
              "      <td>46.0</td>\n",
              "      <td>1</td>\n",
              "      <td>0</td>\n",
              "      <td>FinishedRunning</td>\n",
              "      <td>120.0</td>\n",
              "      <td>1</td>\n",
              "    </tr>\n",
              "  </tbody>\n",
              "</table>\n",
              "<p>3 rows × 22 columns</p>\n",
              "</div>"
            ],
            "text/plain": [
              "    subject_id   hadm_id   stay_id  caregiver_id   \n",
              "24    11592303  26632693  30117157       40703.0  \\\n",
              "33    18867021  28092989  38319765           NaN   \n",
              "37    11802884  23555595  32191008       85606.0   \n",
              "\n",
              "                         starttime                         endtime   \n",
              "24  2152-03-22 09:00:00.000000 UTC  2152-03-22 13:00:00.000000 UTC  \\\n",
              "33  2174-09-05 12:00:00.000000 UTC  2174-09-05 22:10:00.000000 UTC   \n",
              "37  2159-04-20 09:00:00.000000 UTC  2159-04-20 11:00:00.000000 UTC   \n",
              "\n",
              "                         storetime  itemid  value valueuom  ...  orderid   \n",
              "24  2152-03-22 09:28:00.000000 UTC  225441    4.0     hour  ...  5235845  \\\n",
              "33  2174-09-05 22:10:18.020000 UTC  225441  610.0      min  ...  8739326   \n",
              "37  2159-04-20 14:24:00.000000 UTC  225441  120.0      min  ...  5731176   \n",
              "\n",
              "   linkorderid      ordercategoryname  ordercategorydescription patientweight   \n",
              "24     5235845  Continuous Procedures         ContinuousProcess          42.0  \\\n",
              "33     8739326  Continuous Procedures         ContinuousProcess          46.0   \n",
              "37     5731176  Continuous Procedures         ContinuousProcess          46.0   \n",
              "\n",
              "   isopenbag  continueinnextdept  statusdescription  originalamount   \n",
              "24         0                   0    FinishedRunning             4.0  \\\n",
              "33         1                   0    FinishedRunning           610.0   \n",
              "37         1                   0    FinishedRunning           120.0   \n",
              "\n",
              "   originalrate  \n",
              "24            1  \n",
              "33            1  \n",
              "37            1  \n",
              "\n",
              "[3 rows x 22 columns]"
            ]
          },
          "execution_count": 8,
          "metadata": {},
          "output_type": "execute_result"
        }
      ],
      "source": [
        "df_procedureevents = pd.read_csv('./data/input/ICUp5procedureevents.csv')\n",
        "df_procedureevents = df_procedureevents.query('itemid == 225441')\n",
        "df_procedureevents.head(3)"
      ]
    },
    {
      "cell_type": "code",
      "execution_count": 9,
      "metadata": {},
      "outputs": [
        {
          "name": "stdout",
          "output_type": "stream",
          "text": [
            "<class 'pandas.core.frame.DataFrame'>\n",
            "Index: 921 entries, 24 to 8034\n",
            "Data columns (total 22 columns):\n",
            " #   Column                    Non-Null Count  Dtype  \n",
            "---  ------                    --------------  -----  \n",
            " 0   subject_id                921 non-null    int64  \n",
            " 1   hadm_id                   921 non-null    int64  \n",
            " 2   stay_id                   921 non-null    int64  \n",
            " 3   caregiver_id              835 non-null    float64\n",
            " 4   starttime                 921 non-null    object \n",
            " 5   endtime                   921 non-null    object \n",
            " 6   storetime                 921 non-null    object \n",
            " 7   itemid                    921 non-null    int64  \n",
            " 8   value                     921 non-null    float64\n",
            " 9   valueuom                  921 non-null    object \n",
            " 10  location                  0 non-null      object \n",
            " 11  locationcategory          0 non-null      object \n",
            " 12  orderid                   921 non-null    int64  \n",
            " 13  linkorderid               921 non-null    int64  \n",
            " 14  ordercategoryname         921 non-null    object \n",
            " 15  ordercategorydescription  921 non-null    object \n",
            " 16  patientweight             921 non-null    float64\n",
            " 17  isopenbag                 921 non-null    int64  \n",
            " 18  continueinnextdept        921 non-null    int64  \n",
            " 19  statusdescription         921 non-null    object \n",
            " 20  originalamount            921 non-null    float64\n",
            " 21  originalrate              921 non-null    int64  \n",
            "dtypes: float64(4), int64(9), object(9)\n",
            "memory usage: 165.5+ KB\n"
          ]
        }
      ],
      "source": [
        "df_procedureevents.info()"
      ]
    },
    {
      "cell_type": "code",
      "execution_count": 10,
      "metadata": {},
      "outputs": [],
      "source": [
        "data_types = {\n",
        "    'subject_id': 'int64',\n",
        "    'hadm_id': 'int64',\n",
        "    'stay_id': 'int64',\n",
        "    'starttime': 'datetime',\n",
        "    'endtime': 'datetime',\n",
        "    'storetime': 'datetime',\n",
        "    'value': 'float64',\n",
        "    'valueuom': 'category',\n",
        "}"
      ]
    },
    {
      "cell_type": "code",
      "execution_count": 11,
      "metadata": {},
      "outputs": [],
      "source": [
        "correct_format = '%Y-%m-%d %H:%M:%S.%f UTC'\n",
        "\n",
        "for col, dtype in data_types.items():\n",
        "    if dtype == 'datetime':\n",
        "        df_procedureevents[col] = pd.to_datetime(df_procedureevents[col], format=correct_format)\n",
        "    else:\n",
        "        df_procedureevents[col] = df_procedureevents[col].astype(dtype)"
      ]
    },
    {
      "cell_type": "code",
      "execution_count": 12,
      "metadata": {},
      "outputs": [],
      "source": [
        "df_procedureevents = df_procedureevents[data_types.keys()]"
      ]
    },
    {
      "cell_type": "code",
      "execution_count": 13,
      "metadata": {},
      "outputs": [
        {
          "data": {
            "text/html": [
              "<div>\n",
              "<style scoped>\n",
              "    .dataframe tbody tr th:only-of-type {\n",
              "        vertical-align: middle;\n",
              "    }\n",
              "\n",
              "    .dataframe tbody tr th {\n",
              "        vertical-align: top;\n",
              "    }\n",
              "\n",
              "    .dataframe thead th {\n",
              "        text-align: right;\n",
              "    }\n",
              "</style>\n",
              "<table border=\"1\" class=\"dataframe\">\n",
              "  <thead>\n",
              "    <tr style=\"text-align: right;\">\n",
              "      <th></th>\n",
              "      <th>subject_id</th>\n",
              "      <th>hadm_id</th>\n",
              "      <th>stay_id</th>\n",
              "      <th>starttime</th>\n",
              "      <th>endtime</th>\n",
              "      <th>storetime</th>\n",
              "      <th>value</th>\n",
              "      <th>valueuom</th>\n",
              "    </tr>\n",
              "  </thead>\n",
              "  <tbody>\n",
              "    <tr>\n",
              "      <th>24</th>\n",
              "      <td>11592303</td>\n",
              "      <td>26632693</td>\n",
              "      <td>30117157</td>\n",
              "      <td>2152-03-22 09:00:00</td>\n",
              "      <td>2152-03-22 13:00:00</td>\n",
              "      <td>2152-03-22 09:28:00</td>\n",
              "      <td>4.0</td>\n",
              "      <td>hour</td>\n",
              "    </tr>\n",
              "  </tbody>\n",
              "</table>\n",
              "</div>"
            ],
            "text/plain": [
              "    subject_id   hadm_id   stay_id           starttime             endtime   \n",
              "24    11592303  26632693  30117157 2152-03-22 09:00:00 2152-03-22 13:00:00  \\\n",
              "\n",
              "             storetime  value valueuom  \n",
              "24 2152-03-22 09:28:00    4.0     hour  "
            ]
          },
          "execution_count": 13,
          "metadata": {},
          "output_type": "execute_result"
        }
      ],
      "source": [
        "df_procedureevents.head(1)"
      ]
    },
    {
      "cell_type": "code",
      "execution_count": 14,
      "metadata": {},
      "outputs": [],
      "source": [
        "for subject_id in df_procedureevents.subject_id.unique():\n",
        "    if df_window[df_window.subject_id == subject_id].shape[0]:\n",
        "        storetime = df_procedureevents[df_procedureevents.subject_id == subject_id].storetime.to_list()\n",
        "        \n",
        "        df_temp = df_window[df_window.subject_id == subject_id]\n",
        "        df_temp = df_temp[df_temp.end_time.notnull()]\n",
        "        \n",
        "        for item in storetime:\n",
        "            for index, row in df_temp.iterrows():\n",
        "                if row.start_time <= item <= row.end_time:\n",
        "                    df_window.loc[index, 'hemodialysis'] += 1"
      ]
    },
    {
      "cell_type": "markdown",
      "metadata": {},
      "source": [
        "## ICUpatients5"
      ]
    },
    {
      "cell_type": "code",
      "execution_count": 15,
      "metadata": {},
      "outputs": [
        {
          "data": {
            "text/html": [
              "<div>\n",
              "<style scoped>\n",
              "    .dataframe tbody tr th:only-of-type {\n",
              "        vertical-align: middle;\n",
              "    }\n",
              "\n",
              "    .dataframe tbody tr th {\n",
              "        vertical-align: top;\n",
              "    }\n",
              "\n",
              "    .dataframe thead th {\n",
              "        text-align: right;\n",
              "    }\n",
              "</style>\n",
              "<table border=\"1\" class=\"dataframe\">\n",
              "  <thead>\n",
              "    <tr style=\"text-align: right;\">\n",
              "      <th></th>\n",
              "      <th>subject_id</th>\n",
              "      <th>hadm_id</th>\n",
              "      <th>stay_id</th>\n",
              "      <th>gender</th>\n",
              "      <th>anchor_age</th>\n",
              "      <th>admittime</th>\n",
              "      <th>intime</th>\n",
              "      <th>outtime</th>\n",
              "      <th>deathtime</th>\n",
              "      <th>intervaloAdmIntUTI</th>\n",
              "      <th>tempoUTI</th>\n",
              "      <th>race</th>\n",
              "      <th>pesoadm</th>\n",
              "      <th>unidpesoadm</th>\n",
              "      <th>altura</th>\n",
              "      <th>unidaltura</th>\n",
              "      <th>imc</th>\n",
              "    </tr>\n",
              "  </thead>\n",
              "  <tbody>\n",
              "    <tr>\n",
              "      <th>0</th>\n",
              "      <td>12088486</td>\n",
              "      <td>29875103</td>\n",
              "      <td>39348271</td>\n",
              "      <td>M</td>\n",
              "      <td>18</td>\n",
              "      <td>2135-02-07 02:57:00 UTC</td>\n",
              "      <td>2135-02-07 03:03:00 UTC</td>\n",
              "      <td>2135-02-12 00:25:00 UTC</td>\n",
              "      <td>2135-02-11 00:01:00 UTC</td>\n",
              "      <td>0</td>\n",
              "      <td>117</td>\n",
              "      <td>UNABLE TO OBTAIN</td>\n",
              "      <td>71.8</td>\n",
              "      <td>kg</td>\n",
              "      <td>178.0</td>\n",
              "      <td>cm</td>\n",
              "      <td>-99.9</td>\n",
              "    </tr>\n",
              "    <tr>\n",
              "      <th>1</th>\n",
              "      <td>19850244</td>\n",
              "      <td>27972658</td>\n",
              "      <td>32398411</td>\n",
              "      <td>F</td>\n",
              "      <td>18</td>\n",
              "      <td>2162-06-04 17:38:00 UTC</td>\n",
              "      <td>2162-06-05 15:25:42 UTC</td>\n",
              "      <td>2162-06-09 20:22:03 UTC</td>\n",
              "      <td>NaN</td>\n",
              "      <td>21</td>\n",
              "      <td>100</td>\n",
              "      <td>OTHER</td>\n",
              "      <td>57.7</td>\n",
              "      <td>kg</td>\n",
              "      <td>163.0</td>\n",
              "      <td>cm</td>\n",
              "      <td>-99.9</td>\n",
              "    </tr>\n",
              "    <tr>\n",
              "      <th>2</th>\n",
              "      <td>10562205</td>\n",
              "      <td>20149612</td>\n",
              "      <td>34317198</td>\n",
              "      <td>M</td>\n",
              "      <td>18</td>\n",
              "      <td>2149-04-29 23:19:00 UTC</td>\n",
              "      <td>2149-04-30 00:58:00 UTC</td>\n",
              "      <td>2149-05-09 20:54:46 UTC</td>\n",
              "      <td>NaN</td>\n",
              "      <td>1</td>\n",
              "      <td>235</td>\n",
              "      <td>WHITE</td>\n",
              "      <td>98.0</td>\n",
              "      <td>kg</td>\n",
              "      <td>180.0</td>\n",
              "      <td>cm</td>\n",
              "      <td>-99.9</td>\n",
              "    </tr>\n",
              "  </tbody>\n",
              "</table>\n",
              "</div>"
            ],
            "text/plain": [
              "   subject_id   hadm_id   stay_id gender  anchor_age                admittime   \n",
              "0    12088486  29875103  39348271      M          18  2135-02-07 02:57:00 UTC  \\\n",
              "1    19850244  27972658  32398411      F          18  2162-06-04 17:38:00 UTC   \n",
              "2    10562205  20149612  34317198      M          18  2149-04-29 23:19:00 UTC   \n",
              "\n",
              "                    intime                  outtime                deathtime   \n",
              "0  2135-02-07 03:03:00 UTC  2135-02-12 00:25:00 UTC  2135-02-11 00:01:00 UTC  \\\n",
              "1  2162-06-05 15:25:42 UTC  2162-06-09 20:22:03 UTC                      NaN   \n",
              "2  2149-04-30 00:58:00 UTC  2149-05-09 20:54:46 UTC                      NaN   \n",
              "\n",
              "   intervaloAdmIntUTI  tempoUTI              race  pesoadm unidpesoadm   \n",
              "0                   0       117  UNABLE TO OBTAIN     71.8          kg  \\\n",
              "1                  21       100             OTHER     57.7          kg   \n",
              "2                   1       235             WHITE     98.0          kg   \n",
              "\n",
              "   altura unidaltura   imc  \n",
              "0   178.0         cm -99.9  \n",
              "1   163.0         cm -99.9  \n",
              "2   180.0         cm -99.9  "
            ]
          },
          "execution_count": 15,
          "metadata": {},
          "output_type": "execute_result"
        }
      ],
      "source": [
        "df_patients = pd.read_csv('./data/input/ICUpatients5.csv')\n",
        "df_patients.head(3)"
      ]
    },
    {
      "cell_type": "code",
      "execution_count": 16,
      "metadata": {},
      "outputs": [],
      "source": [
        "data_types = {\n",
        "    'subject_id': 'int64',\n",
        "    'intime': 'datetime',\n",
        "    'outtime': 'datetime',\n",
        "}"
      ]
    },
    {
      "cell_type": "code",
      "execution_count": 17,
      "metadata": {},
      "outputs": [],
      "source": [
        "correct_format = '%Y-%m-%d %H:%M:%S UTC'\n",
        "\n",
        "for col, dtype in data_types.items():\n",
        "    if dtype == 'datetime':\n",
        "        df_patients[col] = pd.to_datetime(df_patients[col], format=correct_format)\n",
        "    else:\n",
        "        df_patients[col] = df_patients[col].astype(dtype)\n",
        "        \n",
        "df_patients = df_patients[data_types.keys()]"
      ]
    },
    {
      "cell_type": "code",
      "execution_count": 18,
      "metadata": {},
      "outputs": [],
      "source": [
        "df_patients.loc[:, 'total_hemodialysis'] = 0\n",
        "df_patients.loc[:, 'hemodialysis'] = 0"
      ]
    },
    {
      "cell_type": "code",
      "execution_count": 19,
      "metadata": {},
      "outputs": [],
      "source": [
        "def get_total_hemodialysis(row: pd.Series) -> int:\n",
        "    subject_id = row.subject_id\n",
        "    \n",
        "    return df_window[df_window.subject_id == subject_id].hemodialysis.sum()\n",
        "\n",
        "def get_hemodialysis(row: pd.Series) -> int:\n",
        "    '''\n",
        "        1 - se realizou hemodiálise ao longo do internamento;\n",
        "        0 - se não realizou hemodiálise ao longo do internamento.\n",
        "    '''\n",
        "    return 1 if row['total_hemodialysis'] else 0"
      ]
    },
    {
      "cell_type": "code",
      "execution_count": 20,
      "metadata": {},
      "outputs": [],
      "source": [
        "df_patients.loc[:, 'total_hemodialysis'] = df_patients.apply(get_total_hemodialysis, axis=1)"
      ]
    },
    {
      "cell_type": "code",
      "execution_count": 21,
      "metadata": {},
      "outputs": [],
      "source": [
        "df_patients.loc[:, 'hemodialysis'] = df_patients.apply(get_hemodialysis, axis=1)"
      ]
    },
    {
      "cell_type": "code",
      "execution_count": 22,
      "metadata": {},
      "outputs": [
        {
          "data": {
            "text/html": [
              "<div>\n",
              "<style scoped>\n",
              "    .dataframe tbody tr th:only-of-type {\n",
              "        vertical-align: middle;\n",
              "    }\n",
              "\n",
              "    .dataframe tbody tr th {\n",
              "        vertical-align: top;\n",
              "    }\n",
              "\n",
              "    .dataframe thead th {\n",
              "        text-align: right;\n",
              "    }\n",
              "</style>\n",
              "<table border=\"1\" class=\"dataframe\">\n",
              "  <thead>\n",
              "    <tr style=\"text-align: right;\">\n",
              "      <th></th>\n",
              "      <th>subject_id</th>\n",
              "      <th>intime</th>\n",
              "      <th>outtime</th>\n",
              "      <th>total_hemodialysis</th>\n",
              "      <th>hemodialysis</th>\n",
              "    </tr>\n",
              "  </thead>\n",
              "  <tbody>\n",
              "    <tr>\n",
              "      <th>222</th>\n",
              "      <td>15479539</td>\n",
              "      <td>2138-05-25 01:01:36</td>\n",
              "      <td>2138-07-30 15:02:54</td>\n",
              "      <td>19</td>\n",
              "      <td>1</td>\n",
              "    </tr>\n",
              "    <tr>\n",
              "      <th>851</th>\n",
              "      <td>11129835</td>\n",
              "      <td>2154-05-18 13:11:47</td>\n",
              "      <td>2154-07-18 13:42:25</td>\n",
              "      <td>13</td>\n",
              "      <td>1</td>\n",
              "    </tr>\n",
              "    <tr>\n",
              "      <th>5726</th>\n",
              "      <td>12306709</td>\n",
              "      <td>2141-04-16 11:21:07</td>\n",
              "      <td>2141-05-29 11:26:04</td>\n",
              "      <td>12</td>\n",
              "      <td>1</td>\n",
              "    </tr>\n",
              "  </tbody>\n",
              "</table>\n",
              "</div>"
            ],
            "text/plain": [
              "      subject_id              intime             outtime  total_hemodialysis   \n",
              "222     15479539 2138-05-25 01:01:36 2138-07-30 15:02:54                  19  \\\n",
              "851     11129835 2154-05-18 13:11:47 2154-07-18 13:42:25                  13   \n",
              "5726    12306709 2141-04-16 11:21:07 2141-05-29 11:26:04                  12   \n",
              "\n",
              "      hemodialysis  \n",
              "222              1  \n",
              "851              1  \n",
              "5726             1  "
            ]
          },
          "execution_count": 22,
          "metadata": {},
          "output_type": "execute_result"
        }
      ],
      "source": [
        "df_patients.sort_values('total_hemodialysis', ascending=False).head(3)"
      ]
    },
    {
      "cell_type": "code",
      "execution_count": 23,
      "metadata": {},
      "outputs": [
        {
          "data": {
            "text/html": [
              "<div>\n",
              "<style scoped>\n",
              "    .dataframe tbody tr th:only-of-type {\n",
              "        vertical-align: middle;\n",
              "    }\n",
              "\n",
              "    .dataframe tbody tr th {\n",
              "        vertical-align: top;\n",
              "    }\n",
              "\n",
              "    .dataframe thead th {\n",
              "        text-align: right;\n",
              "    }\n",
              "</style>\n",
              "<table border=\"1\" class=\"dataframe\">\n",
              "  <thead>\n",
              "    <tr style=\"text-align: right;\">\n",
              "      <th></th>\n",
              "      <th>subject_id</th>\n",
              "      <th>intime</th>\n",
              "      <th>outtime</th>\n",
              "      <th>total_hemodialysis</th>\n",
              "      <th>hemodialysis</th>\n",
              "    </tr>\n",
              "  </thead>\n",
              "  <tbody>\n",
              "    <tr>\n",
              "      <th>1920</th>\n",
              "      <td>17710225</td>\n",
              "      <td>2160-11-10 14:08:06</td>\n",
              "      <td>2160-12-05 18:12:37</td>\n",
              "      <td>4</td>\n",
              "      <td>1</td>\n",
              "    </tr>\n",
              "    <tr>\n",
              "      <th>851</th>\n",
              "      <td>11129835</td>\n",
              "      <td>2154-05-18 13:11:47</td>\n",
              "      <td>2154-07-18 13:42:25</td>\n",
              "      <td>13</td>\n",
              "      <td>1</td>\n",
              "    </tr>\n",
              "    <tr>\n",
              "      <th>836</th>\n",
              "      <td>11458288</td>\n",
              "      <td>2142-12-11 17:53:29</td>\n",
              "      <td>2143-01-02 21:16:11</td>\n",
              "      <td>1</td>\n",
              "      <td>1</td>\n",
              "    </tr>\n",
              "  </tbody>\n",
              "</table>\n",
              "</div>"
            ],
            "text/plain": [
              "      subject_id              intime             outtime  total_hemodialysis   \n",
              "1920    17710225 2160-11-10 14:08:06 2160-12-05 18:12:37                   4  \\\n",
              "851     11129835 2154-05-18 13:11:47 2154-07-18 13:42:25                  13   \n",
              "836     11458288 2142-12-11 17:53:29 2143-01-02 21:16:11                   1   \n",
              "\n",
              "      hemodialysis  \n",
              "1920             1  \n",
              "851              1  \n",
              "836              1  "
            ]
          },
          "execution_count": 23,
          "metadata": {},
          "output_type": "execute_result"
        }
      ],
      "source": [
        "df_patients.sort_values('hemodialysis', ascending=False).head(3)"
      ]
    },
    {
      "cell_type": "markdown",
      "metadata": {},
      "source": [
        "## Finalizando"
      ]
    },
    {
      "cell_type": "code",
      "execution_count": 24,
      "metadata": {},
      "outputs": [
        {
          "data": {
            "text/html": [
              "<div>\n",
              "<style scoped>\n",
              "    .dataframe tbody tr th:only-of-type {\n",
              "        vertical-align: middle;\n",
              "    }\n",
              "\n",
              "    .dataframe tbody tr th {\n",
              "        vertical-align: top;\n",
              "    }\n",
              "\n",
              "    .dataframe thead th {\n",
              "        text-align: right;\n",
              "    }\n",
              "</style>\n",
              "<table border=\"1\" class=\"dataframe\">\n",
              "  <thead>\n",
              "    <tr style=\"text-align: right;\">\n",
              "      <th></th>\n",
              "      <th>subject_id</th>\n",
              "      <th>intime</th>\n",
              "      <th>outtime</th>\n",
              "      <th>total_hemodialysis</th>\n",
              "      <th>hemodialysis</th>\n",
              "    </tr>\n",
              "  </thead>\n",
              "  <tbody>\n",
              "    <tr>\n",
              "      <th>0</th>\n",
              "      <td>12088486</td>\n",
              "      <td>2135-02-07 03:03:00</td>\n",
              "      <td>2135-02-12 00:25:00</td>\n",
              "      <td>0</td>\n",
              "      <td>0</td>\n",
              "    </tr>\n",
              "    <tr>\n",
              "      <th>1</th>\n",
              "      <td>19850244</td>\n",
              "      <td>2162-06-05 15:25:42</td>\n",
              "      <td>2162-06-09 20:22:03</td>\n",
              "      <td>0</td>\n",
              "      <td>0</td>\n",
              "    </tr>\n",
              "    <tr>\n",
              "      <th>2</th>\n",
              "      <td>10562205</td>\n",
              "      <td>2149-04-30 00:58:00</td>\n",
              "      <td>2149-05-09 20:54:46</td>\n",
              "      <td>0</td>\n",
              "      <td>0</td>\n",
              "    </tr>\n",
              "    <tr>\n",
              "      <th>3</th>\n",
              "      <td>17840418</td>\n",
              "      <td>2129-01-14 08:00:00</td>\n",
              "      <td>2129-01-17 16:52:18</td>\n",
              "      <td>0</td>\n",
              "      <td>0</td>\n",
              "    </tr>\n",
              "    <tr>\n",
              "      <th>4</th>\n",
              "      <td>17590005</td>\n",
              "      <td>2134-03-03 03:47:56</td>\n",
              "      <td>2134-03-06 16:58:23</td>\n",
              "      <td>0</td>\n",
              "      <td>0</td>\n",
              "    </tr>\n",
              "  </tbody>\n",
              "</table>\n",
              "</div>"
            ],
            "text/plain": [
              "   subject_id              intime             outtime  total_hemodialysis   \n",
              "0    12088486 2135-02-07 03:03:00 2135-02-12 00:25:00                   0  \\\n",
              "1    19850244 2162-06-05 15:25:42 2162-06-09 20:22:03                   0   \n",
              "2    10562205 2149-04-30 00:58:00 2149-05-09 20:54:46                   0   \n",
              "3    17840418 2129-01-14 08:00:00 2129-01-17 16:52:18                   0   \n",
              "4    17590005 2134-03-03 03:47:56 2134-03-06 16:58:23                   0   \n",
              "\n",
              "   hemodialysis  \n",
              "0             0  \n",
              "1             0  \n",
              "2             0  \n",
              "3             0  \n",
              "4             0  "
            ]
          },
          "execution_count": 24,
          "metadata": {},
          "output_type": "execute_result"
        }
      ],
      "source": [
        "df_final = df_patients.reset_index()[['subject_id', 'intime', 'outtime', 'total_hemodialysis', 'hemodialysis']]\n",
        "df_final.head()"
      ]
    },
    {
      "cell_type": "code",
      "execution_count": 25,
      "metadata": {},
      "outputs": [],
      "source": [
        "df_final.to_csv('./data/output/ICUp5Hemodialysis.csv', index=False)"
      ]
    }
  ],
  "metadata": {
    "colab": {
      "provenance": []
    },
    "kernelspec": {
      "display_name": "Python 3",
      "name": "python3"
    },
    "language_info": {
      "codemirror_mode": {
        "name": "ipython",
        "version": 3
      },
      "file_extension": ".py",
      "mimetype": "text/x-python",
      "name": "python",
      "nbconvert_exporter": "python",
      "pygments_lexer": "ipython3",
      "version": "3.11.8"
    }
  },
  "nbformat": 4,
  "nbformat_minor": 0
}
