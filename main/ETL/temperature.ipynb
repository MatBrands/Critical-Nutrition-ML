{
  "cells": [
    {
      "cell_type": "markdown",
      "metadata": {},
      "source": [
        "# Script"
      ]
    },
    {
      "cell_type": "code",
      "execution_count": 1,
      "metadata": {
        "id": "pUv_2aXhgxP4"
      },
      "outputs": [],
      "source": [
        "import numpy as np\n",
        "import pandas as pd"
      ]
    },
    {
      "cell_type": "markdown",
      "metadata": {},
      "source": [
        "## ICUp5NewWindow24"
      ]
    },
    {
      "cell_type": "code",
      "execution_count": 2,
      "metadata": {},
      "outputs": [
        {
          "data": {
            "text/html": [
              "<div>\n",
              "<style scoped>\n",
              "    .dataframe tbody tr th:only-of-type {\n",
              "        vertical-align: middle;\n",
              "    }\n",
              "\n",
              "    .dataframe tbody tr th {\n",
              "        vertical-align: top;\n",
              "    }\n",
              "\n",
              "    .dataframe thead th {\n",
              "        text-align: right;\n",
              "    }\n",
              "</style>\n",
              "<table border=\"1\" class=\"dataframe\">\n",
              "  <thead>\n",
              "    <tr style=\"text-align: right;\">\n",
              "      <th></th>\n",
              "      <th>subject_id</th>\n",
              "      <th>day</th>\n",
              "      <th>start_time</th>\n",
              "      <th>end_time</th>\n",
              "      <th>diff_end_start</th>\n",
              "    </tr>\n",
              "  </thead>\n",
              "  <tbody>\n",
              "    <tr>\n",
              "      <th>0</th>\n",
              "      <td>12088486</td>\n",
              "      <td>1</td>\n",
              "      <td>2135-02-07 03:03:00</td>\n",
              "      <td>2135-02-08 03:03:00</td>\n",
              "      <td>24.0</td>\n",
              "    </tr>\n",
              "    <tr>\n",
              "      <th>1</th>\n",
              "      <td>12088486</td>\n",
              "      <td>2</td>\n",
              "      <td>2135-02-08 03:03:00</td>\n",
              "      <td>2135-02-09 03:03:00</td>\n",
              "      <td>24.0</td>\n",
              "    </tr>\n",
              "    <tr>\n",
              "      <th>2</th>\n",
              "      <td>12088486</td>\n",
              "      <td>3</td>\n",
              "      <td>2135-02-09 03:03:00</td>\n",
              "      <td>2135-02-10 03:03:00</td>\n",
              "      <td>24.0</td>\n",
              "    </tr>\n",
              "  </tbody>\n",
              "</table>\n",
              "</div>"
            ],
            "text/plain": [
              "   subject_id  day           start_time             end_time  diff_end_start\n",
              "0    12088486    1  2135-02-07 03:03:00  2135-02-08 03:03:00            24.0\n",
              "1    12088486    2  2135-02-08 03:03:00  2135-02-09 03:03:00            24.0\n",
              "2    12088486    3  2135-02-09 03:03:00  2135-02-10 03:03:00            24.0"
            ]
          },
          "execution_count": 2,
          "metadata": {},
          "output_type": "execute_result"
        }
      ],
      "source": [
        "df_window = pd.read_csv('./data/output/ICUp5NewWindow24.csv')\n",
        "df_window.head(3)"
      ]
    },
    {
      "cell_type": "code",
      "execution_count": 3,
      "metadata": {},
      "outputs": [
        {
          "name": "stdout",
          "output_type": "stream",
          "text": [
            "<class 'pandas.core.frame.DataFrame'>\n",
            "RangeIndex: 63005 entries, 0 to 63004\n",
            "Data columns (total 5 columns):\n",
            " #   Column          Non-Null Count  Dtype  \n",
            "---  ------          --------------  -----  \n",
            " 0   subject_id      63005 non-null  int64  \n",
            " 1   day             63005 non-null  int64  \n",
            " 2   start_time      63005 non-null  object \n",
            " 3   end_time        63005 non-null  object \n",
            " 4   diff_end_start  63005 non-null  float64\n",
            "dtypes: float64(1), int64(2), object(2)\n",
            "memory usage: 2.4+ MB\n"
          ]
        }
      ],
      "source": [
        "df_window.info()"
      ]
    },
    {
      "cell_type": "code",
      "execution_count": 4,
      "metadata": {},
      "outputs": [
        {
          "data": {
            "text/html": [
              "<div>\n",
              "<style scoped>\n",
              "    .dataframe tbody tr th:only-of-type {\n",
              "        vertical-align: middle;\n",
              "    }\n",
              "\n",
              "    .dataframe tbody tr th {\n",
              "        vertical-align: top;\n",
              "    }\n",
              "\n",
              "    .dataframe thead th {\n",
              "        text-align: right;\n",
              "    }\n",
              "</style>\n",
              "<table border=\"1\" class=\"dataframe\">\n",
              "  <thead>\n",
              "    <tr style=\"text-align: right;\">\n",
              "      <th></th>\n",
              "      <th>count</th>\n",
              "      <th>mean</th>\n",
              "      <th>std</th>\n",
              "      <th>min</th>\n",
              "      <th>25%</th>\n",
              "      <th>50%</th>\n",
              "      <th>75%</th>\n",
              "      <th>max</th>\n",
              "    </tr>\n",
              "  </thead>\n",
              "  <tbody>\n",
              "    <tr>\n",
              "      <th>subject_id</th>\n",
              "      <td>63005.0</td>\n",
              "      <td>1.506537e+07</td>\n",
              "      <td>2.875203e+06</td>\n",
              "      <td>10001884.0</td>\n",
              "      <td>12621244.0</td>\n",
              "      <td>15153936.0</td>\n",
              "      <td>17541976.0</td>\n",
              "      <td>19999840.0</td>\n",
              "    </tr>\n",
              "    <tr>\n",
              "      <th>day</th>\n",
              "      <td>63005.0</td>\n",
              "      <td>7.655091e+00</td>\n",
              "      <td>8.127624e+00</td>\n",
              "      <td>1.0</td>\n",
              "      <td>3.0</td>\n",
              "      <td>5.0</td>\n",
              "      <td>10.0</td>\n",
              "      <td>100.0</td>\n",
              "    </tr>\n",
              "    <tr>\n",
              "      <th>diff_end_start</th>\n",
              "      <td>63005.0</td>\n",
              "      <td>2.337211e+01</td>\n",
              "      <td>3.011440e+00</td>\n",
              "      <td>6.0</td>\n",
              "      <td>24.0</td>\n",
              "      <td>24.0</td>\n",
              "      <td>24.0</td>\n",
              "      <td>29.0</td>\n",
              "    </tr>\n",
              "  </tbody>\n",
              "</table>\n",
              "</div>"
            ],
            "text/plain": [
              "                  count          mean           std         min         25%   \n",
              "subject_id      63005.0  1.506537e+07  2.875203e+06  10001884.0  12621244.0  \\\n",
              "day             63005.0  7.655091e+00  8.127624e+00         1.0         3.0   \n",
              "diff_end_start  63005.0  2.337211e+01  3.011440e+00         6.0        24.0   \n",
              "\n",
              "                       50%         75%         max  \n",
              "subject_id      15153936.0  17541976.0  19999840.0  \n",
              "day                    5.0        10.0       100.0  \n",
              "diff_end_start        24.0        24.0        29.0  "
            ]
          },
          "execution_count": 4,
          "metadata": {},
          "output_type": "execute_result"
        }
      ],
      "source": [
        "df_window.describe().T"
      ]
    },
    {
      "cell_type": "code",
      "execution_count": 5,
      "metadata": {},
      "outputs": [],
      "source": [
        "data_types = {\n",
        "    'subject_id': 'int64',\n",
        "    'day': 'int64',\n",
        "    'start_time': 'datetime',\n",
        "    'end_time': 'datetime'\n",
        "}"
      ]
    },
    {
      "cell_type": "code",
      "execution_count": 6,
      "metadata": {},
      "outputs": [],
      "source": [
        "correct_format = '%Y-%m-%d %H:%M:%S'\n",
        "\n",
        "for col, dtype in data_types.items():\n",
        "    if dtype == 'datetime':\n",
        "        df_window[col] = pd.to_datetime(df_window[col], format=correct_format)\n",
        "    else:\n",
        "        df_window[col] = df_window[col].astype(dtype)"
      ]
    },
    {
      "cell_type": "markdown",
      "metadata": {},
      "source": [
        "### A partir desse ponto iremos realizar os procedimentos referentes as extrações específicas"
      ]
    },
    {
      "cell_type": "code",
      "execution_count": 7,
      "metadata": {},
      "outputs": [],
      "source": [
        "df_window.loc[:, 'temperature'] = np.nan"
      ]
    },
    {
      "cell_type": "markdown",
      "metadata": {},
      "source": [
        "## ICUp5Temperatura"
      ]
    },
    {
      "cell_type": "code",
      "execution_count": 8,
      "metadata": {},
      "outputs": [
        {
          "data": {
            "text/html": [
              "<div>\n",
              "<style scoped>\n",
              "    .dataframe tbody tr th:only-of-type {\n",
              "        vertical-align: middle;\n",
              "    }\n",
              "\n",
              "    .dataframe tbody tr th {\n",
              "        vertical-align: top;\n",
              "    }\n",
              "\n",
              "    .dataframe thead th {\n",
              "        text-align: right;\n",
              "    }\n",
              "</style>\n",
              "<table border=\"1\" class=\"dataframe\">\n",
              "  <thead>\n",
              "    <tr style=\"text-align: right;\">\n",
              "      <th></th>\n",
              "      <th>subject_id</th>\n",
              "      <th>charttime</th>\n",
              "      <th>FahrenheitTemp</th>\n",
              "      <th>CelsiusTemp</th>\n",
              "    </tr>\n",
              "  </thead>\n",
              "  <tbody>\n",
              "    <tr>\n",
              "      <th>0</th>\n",
              "      <td>17123098</td>\n",
              "      <td>2185-07-11 20:29:00.000000 UTC</td>\n",
              "      <td>92.0</td>\n",
              "      <td>33.333333</td>\n",
              "    </tr>\n",
              "    <tr>\n",
              "      <th>1</th>\n",
              "      <td>15239071</td>\n",
              "      <td>2153-08-26 21:00:00.000000 UTC</td>\n",
              "      <td>92.0</td>\n",
              "      <td>33.333333</td>\n",
              "    </tr>\n",
              "    <tr>\n",
              "      <th>2</th>\n",
              "      <td>10804133</td>\n",
              "      <td>2133-07-08 12:27:00.000000 UTC</td>\n",
              "      <td>92.0</td>\n",
              "      <td>33.333333</td>\n",
              "    </tr>\n",
              "  </tbody>\n",
              "</table>\n",
              "</div>"
            ],
            "text/plain": [
              "   subject_id                       charttime  FahrenheitTemp  CelsiusTemp\n",
              "0    17123098  2185-07-11 20:29:00.000000 UTC            92.0    33.333333\n",
              "1    15239071  2153-08-26 21:00:00.000000 UTC            92.0    33.333333\n",
              "2    10804133  2133-07-08 12:27:00.000000 UTC            92.0    33.333333"
            ]
          },
          "execution_count": 8,
          "metadata": {},
          "output_type": "execute_result"
        }
      ],
      "source": [
        "df_temperatura = pd.read_csv('./data/input/ICUp5Temperatura.csv')\n",
        "df_temperatura.head(3)"
      ]
    },
    {
      "cell_type": "code",
      "execution_count": 9,
      "metadata": {},
      "outputs": [
        {
          "name": "stdout",
          "output_type": "stream",
          "text": [
            "<class 'pandas.core.frame.DataFrame'>\n",
            "RangeIndex: 129989 entries, 0 to 129988\n",
            "Data columns (total 4 columns):\n",
            " #   Column          Non-Null Count   Dtype  \n",
            "---  ------          --------------   -----  \n",
            " 0   subject_id      129989 non-null  int64  \n",
            " 1   charttime       129989 non-null  object \n",
            " 2   FahrenheitTemp  129989 non-null  float64\n",
            " 3   CelsiusTemp     129989 non-null  float64\n",
            "dtypes: float64(2), int64(1), object(1)\n",
            "memory usage: 4.0+ MB\n"
          ]
        }
      ],
      "source": [
        "df_temperatura.info()"
      ]
    },
    {
      "cell_type": "code",
      "execution_count": 10,
      "metadata": {},
      "outputs": [],
      "source": [
        "data_types = {\n",
        "    'subject_id': 'int64',\n",
        "    'charttime': 'datetime',\n",
        "    'CelsiusTemp': 'float64',\n",
        "}"
      ]
    },
    {
      "cell_type": "code",
      "execution_count": 11,
      "metadata": {},
      "outputs": [
        {
          "data": {
            "text/html": [
              "<div>\n",
              "<style scoped>\n",
              "    .dataframe tbody tr th:only-of-type {\n",
              "        vertical-align: middle;\n",
              "    }\n",
              "\n",
              "    .dataframe tbody tr th {\n",
              "        vertical-align: top;\n",
              "    }\n",
              "\n",
              "    .dataframe thead th {\n",
              "        text-align: right;\n",
              "    }\n",
              "</style>\n",
              "<table border=\"1\" class=\"dataframe\">\n",
              "  <thead>\n",
              "    <tr style=\"text-align: right;\">\n",
              "      <th></th>\n",
              "      <th>subject_id</th>\n",
              "      <th>charttime</th>\n",
              "      <th>CelsiusTemp</th>\n",
              "    </tr>\n",
              "  </thead>\n",
              "  <tbody>\n",
              "    <tr>\n",
              "      <th>0</th>\n",
              "      <td>17123098</td>\n",
              "      <td>2185-07-11 20:29:00</td>\n",
              "      <td>33.333333</td>\n",
              "    </tr>\n",
              "  </tbody>\n",
              "</table>\n",
              "</div>"
            ],
            "text/plain": [
              "   subject_id           charttime  CelsiusTemp\n",
              "0    17123098 2185-07-11 20:29:00    33.333333"
            ]
          },
          "execution_count": 11,
          "metadata": {},
          "output_type": "execute_result"
        }
      ],
      "source": [
        "correct_format = '%Y-%m-%d %H:%M:%S.%f UTC'\n",
        "\n",
        "for col, dtype in data_types.items():\n",
        "    if dtype == 'datetime':\n",
        "        df_temperatura[col] = pd.to_datetime(df_temperatura[col], format=correct_format)\n",
        "    else:\n",
        "        df_temperatura[col] = df_temperatura[col].astype(dtype)\n",
        "        \n",
        "df_temperatura = df_temperatura[data_types.keys()]\n",
        "        \n",
        "df_temperatura.head(1)"
      ]
    },
    {
      "cell_type": "code",
      "execution_count": 12,
      "metadata": {},
      "outputs": [
        {
          "data": {
            "text/html": [
              "<div>\n",
              "<style scoped>\n",
              "    .dataframe tbody tr th:only-of-type {\n",
              "        vertical-align: middle;\n",
              "    }\n",
              "\n",
              "    .dataframe tbody tr th {\n",
              "        vertical-align: top;\n",
              "    }\n",
              "\n",
              "    .dataframe thead th {\n",
              "        text-align: right;\n",
              "    }\n",
              "</style>\n",
              "<table border=\"1\" class=\"dataframe\">\n",
              "  <thead>\n",
              "    <tr style=\"text-align: right;\">\n",
              "      <th></th>\n",
              "      <th>subject_id</th>\n",
              "      <th>charttime</th>\n",
              "      <th>CelsiusTemp</th>\n",
              "    </tr>\n",
              "  </thead>\n",
              "  <tbody>\n",
              "    <tr>\n",
              "      <th>27129</th>\n",
              "      <td>15652922</td>\n",
              "      <td>2178-10-06 08:54:00</td>\n",
              "      <td>43.055556</td>\n",
              "    </tr>\n",
              "    <tr>\n",
              "      <th>73292</th>\n",
              "      <td>12616482</td>\n",
              "      <td>2150-03-17 09:00:00</td>\n",
              "      <td>41.666667</td>\n",
              "    </tr>\n",
              "    <tr>\n",
              "      <th>122279</th>\n",
              "      <td>14418220</td>\n",
              "      <td>2138-07-24 10:37:00</td>\n",
              "      <td>41.277778</td>\n",
              "    </tr>\n",
              "  </tbody>\n",
              "</table>\n",
              "</div>"
            ],
            "text/plain": [
              "        subject_id           charttime  CelsiusTemp\n",
              "27129     15652922 2178-10-06 08:54:00    43.055556\n",
              "73292     12616482 2150-03-17 09:00:00    41.666667\n",
              "122279    14418220 2138-07-24 10:37:00    41.277778"
            ]
          },
          "execution_count": 12,
          "metadata": {},
          "output_type": "execute_result"
        }
      ],
      "source": [
        "df_temperatura.sort_values('CelsiusTemp', ascending=False).head(3)"
      ]
    },
    {
      "cell_type": "code",
      "execution_count": 13,
      "metadata": {},
      "outputs": [],
      "source": [
        "for subject_id in df_temperatura.subject_id.unique():\n",
        "    if df_window[df_window.subject_id == subject_id].shape[0]:\n",
        "        df_temp = df_window[df_window.subject_id == subject_id]\n",
        "        df_temp = df_temp[df_temp.end_time.notnull()]\n",
        "        \n",
        "        charttime = df_temperatura.query(\"subject_id == @subject_id\")\n",
        "        for item in charttime:\n",
        "            for index, row in df_temp.iterrows():\n",
        "                temperature_on_charttime = [item.CelsiusTemp for _, item in charttime.iterrows() if row.start_time <= item.charttime <= row.end_time]\n",
        "                \n",
        "                if not temperature_on_charttime:\n",
        "                    temperature_on_charttime = np.nan\n",
        "                else:\n",
        "                    temperature_on_charttime = max(temperature_on_charttime)\n",
        "                    \n",
        "                df_window.loc[index, 'temperature'] = temperature_on_charttime"
      ]
    },
    {
      "cell_type": "code",
      "execution_count": 14,
      "metadata": {},
      "outputs": [
        {
          "data": {
            "text/html": [
              "<div>\n",
              "<style scoped>\n",
              "    .dataframe tbody tr th:only-of-type {\n",
              "        vertical-align: middle;\n",
              "    }\n",
              "\n",
              "    .dataframe tbody tr th {\n",
              "        vertical-align: top;\n",
              "    }\n",
              "\n",
              "    .dataframe thead th {\n",
              "        text-align: right;\n",
              "    }\n",
              "</style>\n",
              "<table border=\"1\" class=\"dataframe\">\n",
              "  <thead>\n",
              "    <tr style=\"text-align: right;\">\n",
              "      <th></th>\n",
              "      <th>subject_id</th>\n",
              "      <th>day</th>\n",
              "      <th>start_time</th>\n",
              "      <th>end_time</th>\n",
              "      <th>diff_end_start</th>\n",
              "      <th>temperature</th>\n",
              "    </tr>\n",
              "  </thead>\n",
              "  <tbody>\n",
              "    <tr>\n",
              "      <th>8359</th>\n",
              "      <td>15652922</td>\n",
              "      <td>17</td>\n",
              "      <td>2178-10-05 09:00:00</td>\n",
              "      <td>2178-10-06 11:18:33</td>\n",
              "      <td>26.0</td>\n",
              "      <td>43.055556</td>\n",
              "    </tr>\n",
              "    <tr>\n",
              "      <th>33399</th>\n",
              "      <td>12616482</td>\n",
              "      <td>14</td>\n",
              "      <td>2150-03-16 22:18:00</td>\n",
              "      <td>2150-03-17 16:37:16</td>\n",
              "      <td>18.0</td>\n",
              "      <td>41.666667</td>\n",
              "    </tr>\n",
              "    <tr>\n",
              "      <th>34255</th>\n",
              "      <td>14418220</td>\n",
              "      <td>8</td>\n",
              "      <td>2138-07-23 15:02:32</td>\n",
              "      <td>2138-07-24 15:02:32</td>\n",
              "      <td>24.0</td>\n",
              "      <td>41.277778</td>\n",
              "    </tr>\n",
              "  </tbody>\n",
              "</table>\n",
              "</div>"
            ],
            "text/plain": [
              "       subject_id  day          start_time            end_time   \n",
              "8359     15652922   17 2178-10-05 09:00:00 2178-10-06 11:18:33  \\\n",
              "33399    12616482   14 2150-03-16 22:18:00 2150-03-17 16:37:16   \n",
              "34255    14418220    8 2138-07-23 15:02:32 2138-07-24 15:02:32   \n",
              "\n",
              "       diff_end_start  temperature  \n",
              "8359             26.0    43.055556  \n",
              "33399            18.0    41.666667  \n",
              "34255            24.0    41.277778  "
            ]
          },
          "execution_count": 14,
          "metadata": {},
          "output_type": "execute_result"
        }
      ],
      "source": [
        "df_window.sort_values('temperature', ascending=False).head(3)"
      ]
    },
    {
      "cell_type": "markdown",
      "metadata": {},
      "source": [
        "## ICUpatients5"
      ]
    },
    {
      "cell_type": "code",
      "execution_count": 15,
      "metadata": {},
      "outputs": [
        {
          "data": {
            "text/html": [
              "<div>\n",
              "<style scoped>\n",
              "    .dataframe tbody tr th:only-of-type {\n",
              "        vertical-align: middle;\n",
              "    }\n",
              "\n",
              "    .dataframe tbody tr th {\n",
              "        vertical-align: top;\n",
              "    }\n",
              "\n",
              "    .dataframe thead th {\n",
              "        text-align: right;\n",
              "    }\n",
              "</style>\n",
              "<table border=\"1\" class=\"dataframe\">\n",
              "  <thead>\n",
              "    <tr style=\"text-align: right;\">\n",
              "      <th></th>\n",
              "      <th>subject_id</th>\n",
              "      <th>hadm_id</th>\n",
              "      <th>stay_id</th>\n",
              "      <th>gender</th>\n",
              "      <th>anchor_age</th>\n",
              "      <th>admittime</th>\n",
              "      <th>intime</th>\n",
              "      <th>outtime</th>\n",
              "      <th>deathtime</th>\n",
              "      <th>intervaloAdmIntUTI</th>\n",
              "      <th>tempoUTI</th>\n",
              "      <th>race</th>\n",
              "      <th>pesoadm</th>\n",
              "      <th>unidpesoadm</th>\n",
              "      <th>altura</th>\n",
              "      <th>unidaltura</th>\n",
              "      <th>imc</th>\n",
              "    </tr>\n",
              "  </thead>\n",
              "  <tbody>\n",
              "    <tr>\n",
              "      <th>0</th>\n",
              "      <td>12088486</td>\n",
              "      <td>29875103</td>\n",
              "      <td>39348271</td>\n",
              "      <td>M</td>\n",
              "      <td>18</td>\n",
              "      <td>2135-02-07 02:57:00 UTC</td>\n",
              "      <td>2135-02-07 03:03:00 UTC</td>\n",
              "      <td>2135-02-12 00:25:00 UTC</td>\n",
              "      <td>2135-02-11 00:01:00 UTC</td>\n",
              "      <td>0</td>\n",
              "      <td>117</td>\n",
              "      <td>UNABLE TO OBTAIN</td>\n",
              "      <td>71.8</td>\n",
              "      <td>kg</td>\n",
              "      <td>178.0</td>\n",
              "      <td>cm</td>\n",
              "      <td>-99.9</td>\n",
              "    </tr>\n",
              "    <tr>\n",
              "      <th>1</th>\n",
              "      <td>19850244</td>\n",
              "      <td>27972658</td>\n",
              "      <td>32398411</td>\n",
              "      <td>F</td>\n",
              "      <td>18</td>\n",
              "      <td>2162-06-04 17:38:00 UTC</td>\n",
              "      <td>2162-06-05 15:25:42 UTC</td>\n",
              "      <td>2162-06-09 20:22:03 UTC</td>\n",
              "      <td>NaN</td>\n",
              "      <td>21</td>\n",
              "      <td>100</td>\n",
              "      <td>OTHER</td>\n",
              "      <td>57.7</td>\n",
              "      <td>kg</td>\n",
              "      <td>163.0</td>\n",
              "      <td>cm</td>\n",
              "      <td>-99.9</td>\n",
              "    </tr>\n",
              "    <tr>\n",
              "      <th>2</th>\n",
              "      <td>10562205</td>\n",
              "      <td>20149612</td>\n",
              "      <td>34317198</td>\n",
              "      <td>M</td>\n",
              "      <td>18</td>\n",
              "      <td>2149-04-29 23:19:00 UTC</td>\n",
              "      <td>2149-04-30 00:58:00 UTC</td>\n",
              "      <td>2149-05-09 20:54:46 UTC</td>\n",
              "      <td>NaN</td>\n",
              "      <td>1</td>\n",
              "      <td>235</td>\n",
              "      <td>WHITE</td>\n",
              "      <td>98.0</td>\n",
              "      <td>kg</td>\n",
              "      <td>180.0</td>\n",
              "      <td>cm</td>\n",
              "      <td>-99.9</td>\n",
              "    </tr>\n",
              "  </tbody>\n",
              "</table>\n",
              "</div>"
            ],
            "text/plain": [
              "   subject_id   hadm_id   stay_id gender  anchor_age                admittime   \n",
              "0    12088486  29875103  39348271      M          18  2135-02-07 02:57:00 UTC  \\\n",
              "1    19850244  27972658  32398411      F          18  2162-06-04 17:38:00 UTC   \n",
              "2    10562205  20149612  34317198      M          18  2149-04-29 23:19:00 UTC   \n",
              "\n",
              "                    intime                  outtime                deathtime   \n",
              "0  2135-02-07 03:03:00 UTC  2135-02-12 00:25:00 UTC  2135-02-11 00:01:00 UTC  \\\n",
              "1  2162-06-05 15:25:42 UTC  2162-06-09 20:22:03 UTC                      NaN   \n",
              "2  2149-04-30 00:58:00 UTC  2149-05-09 20:54:46 UTC                      NaN   \n",
              "\n",
              "   intervaloAdmIntUTI  tempoUTI              race  pesoadm unidpesoadm   \n",
              "0                   0       117  UNABLE TO OBTAIN     71.8          kg  \\\n",
              "1                  21       100             OTHER     57.7          kg   \n",
              "2                   1       235             WHITE     98.0          kg   \n",
              "\n",
              "   altura unidaltura   imc  \n",
              "0   178.0         cm -99.9  \n",
              "1   163.0         cm -99.9  \n",
              "2   180.0         cm -99.9  "
            ]
          },
          "execution_count": 15,
          "metadata": {},
          "output_type": "execute_result"
        }
      ],
      "source": [
        "df_patients = pd.read_csv('./data/input/ICUpatients5.csv')\n",
        "df_patients.head(3)"
      ]
    },
    {
      "cell_type": "code",
      "execution_count": 16,
      "metadata": {},
      "outputs": [],
      "source": [
        "data_types = {\n",
        "    'subject_id': 'int64',\n",
        "    'intime': 'datetime',\n",
        "    'outtime': 'datetime',\n",
        "}"
      ]
    },
    {
      "cell_type": "code",
      "execution_count": 17,
      "metadata": {},
      "outputs": [],
      "source": [
        "correct_format = '%Y-%m-%d %H:%M:%S UTC'\n",
        "\n",
        "for col, dtype in data_types.items():\n",
        "    if dtype == 'datetime':\n",
        "        df_patients[col] = pd.to_datetime(df_patients[col], format=correct_format)\n",
        "    else:\n",
        "        df_patients[col] = df_patients[col].astype(dtype)\n",
        "        \n",
        "df_patients = df_patients[data_types.keys()]"
      ]
    },
    {
      "cell_type": "code",
      "execution_count": 18,
      "metadata": {},
      "outputs": [],
      "source": [
        "df_patients.loc[:, 'max_temperature_on_day'] = 0\n",
        "df_patients.loc[:, 'temperature_proportion'] = 0"
      ]
    },
    {
      "cell_type": "code",
      "execution_count": 26,
      "metadata": {},
      "outputs": [],
      "source": [
        "\n",
        "def get_max_temperature_on_day(row: pd.Series) -> int:\n",
        "    subject_id = row.subject_id\n",
        "    \n",
        "    return df_window[df_window.subject_id == subject_id].temperature.max()\n",
        "\n",
        "def get_temperature_proportion(row: pd.Series) -> int:\n",
        "    \n",
        "    subject_id = row.subject_id\n",
        "    index = df_window[df_window.subject_id == subject_id].index\n",
        "    \n",
        "    days_on_icu = index.shape[0]\n",
        "    temperature = df_window[df_window.subject_id == subject_id].temperature.dropna()\n",
        "\n",
        "    if not temperature.shape[0]:\n",
        "        return np.nan\n",
        "    \n",
        "    proportion = temperature.shape[0]/days_on_icu\n",
        "    \n",
        "    return proportion\n",
        "\n",
        "def get_temperature_aggrouped(row: pd.Series) -> int:\n",
        "    '''\n",
        "        Calcular a quantidade de janelas de internamento em que ocorre temperatura maior que 37,8. Calcular a proporção em relação a quantidade de dias em internamento.\n",
        "        ATENÇÃO: Pode haver mais de uma anotação na mesma janela. Considerar a maior temperatura da janela para comparar com o valor citado acima.\n",
        "        Criar 1 variável contabilizando o percentual de dias de internamento onde houve temperatura elevada:\n",
        "        - ProporçãoTempElevada: Fórmula: qtde de janelas de 24h com anotação de temperatura elevada / qtde janelas de 24h em internamento\n",
        "        Categorizar:\n",
        "        0 - NÃO FOI ENCONTRADA ANOTAÇÃO; \n",
        "        1 – FOI ENCONTRADA ANOTAÇÃO, PORÉM NENHUM REGISTRO DE TEMPERATURA ELEVADA; \n",
        "        2 - >0 e <= 25%, \n",
        "        3 - >25% e <= 50%, \n",
        "        4 - >50% e <= 75%, \n",
        "        5 - >75% e <= 100%.\n",
        "    '''\n",
        "    \n",
        "    subject_id = row.subject_id\n",
        "    index = df_window[df_window.subject_id == subject_id].index\n",
        "    \n",
        "    temperature = df_window[df_window.subject_id == subject_id].temperature.dropna()\n",
        "\n",
        "    if not temperature.shape[0]:\n",
        "        return 0\n",
        "    \n",
        "    if temperature.max() <= 37.8:\n",
        "        return 1\n",
        "    \n",
        "    temperature = temperature[temperature > 37.8]\n",
        "    \n",
        "    days_on_icu = index.shape[0]\n",
        "    proportion = temperature.shape[0]/days_on_icu\n",
        "    \n",
        "    if proportion > 0 and proportion <= 0.25:\n",
        "        return 2\n",
        "    \n",
        "    if proportion > 0.25 and proportion <= 0.50:\n",
        "        return 3\n",
        "    \n",
        "    if proportion > 0.50 and proportion <= 0.75:\n",
        "        return 4\n",
        "    \n",
        "    if proportion > 0.75 and proportion <= 1:\n",
        "        return 5\n",
        "    \n",
        "    return -1"
      ]
    },
    {
      "cell_type": "code",
      "execution_count": 27,
      "metadata": {},
      "outputs": [],
      "source": [
        "df_patients.loc[:, 'max_temperature_on_day'] = df_patients.apply(get_max_temperature_on_day, axis=1)"
      ]
    },
    {
      "cell_type": "code",
      "execution_count": 28,
      "metadata": {},
      "outputs": [],
      "source": [
        "df_patients.loc[:, 'temperature_proportion'] = df_patients.apply(get_temperature_proportion, axis=1)"
      ]
    },
    {
      "cell_type": "code",
      "execution_count": 29,
      "metadata": {},
      "outputs": [],
      "source": [
        "df_patients.loc[:, 'temperature_aggrouped'] = df_patients.apply(get_temperature_aggrouped, axis=1)"
      ]
    },
    {
      "cell_type": "code",
      "execution_count": 30,
      "metadata": {},
      "outputs": [
        {
          "data": {
            "text/plain": [
              "temperature_aggrouped\n",
              "1    4317\n",
              "2    1669\n",
              "3     993\n",
              "4     358\n",
              "0      87\n",
              "5      69\n",
              "Name: count, dtype: int64"
            ]
          },
          "execution_count": 30,
          "metadata": {},
          "output_type": "execute_result"
        }
      ],
      "source": [
        "df_patients.temperature_aggrouped.value_counts()"
      ]
    },
    {
      "cell_type": "markdown",
      "metadata": {},
      "source": [
        "## Finalizando"
      ]
    },
    {
      "cell_type": "code",
      "execution_count": 31,
      "metadata": {},
      "outputs": [
        {
          "data": {
            "text/html": [
              "<div>\n",
              "<style scoped>\n",
              "    .dataframe tbody tr th:only-of-type {\n",
              "        vertical-align: middle;\n",
              "    }\n",
              "\n",
              "    .dataframe tbody tr th {\n",
              "        vertical-align: top;\n",
              "    }\n",
              "\n",
              "    .dataframe thead th {\n",
              "        text-align: right;\n",
              "    }\n",
              "</style>\n",
              "<table border=\"1\" class=\"dataframe\">\n",
              "  <thead>\n",
              "    <tr style=\"text-align: right;\">\n",
              "      <th></th>\n",
              "      <th>subject_id</th>\n",
              "      <th>intime</th>\n",
              "      <th>outtime</th>\n",
              "      <th>max_temperature_on_day</th>\n",
              "      <th>temperature_proportion</th>\n",
              "      <th>temperature_aggrouped</th>\n",
              "    </tr>\n",
              "  </thead>\n",
              "  <tbody>\n",
              "    <tr>\n",
              "      <th>0</th>\n",
              "      <td>12088486</td>\n",
              "      <td>2135-02-07 03:03:00</td>\n",
              "      <td>2135-02-12 00:25:00</td>\n",
              "      <td>37.944444</td>\n",
              "      <td>0.6</td>\n",
              "      <td>2</td>\n",
              "    </tr>\n",
              "    <tr>\n",
              "      <th>1</th>\n",
              "      <td>19850244</td>\n",
              "      <td>2162-06-05 15:25:42</td>\n",
              "      <td>2162-06-09 20:22:03</td>\n",
              "      <td>38.500000</td>\n",
              "      <td>1.0</td>\n",
              "      <td>3</td>\n",
              "    </tr>\n",
              "    <tr>\n",
              "      <th>2</th>\n",
              "      <td>10562205</td>\n",
              "      <td>2149-04-30 00:58:00</td>\n",
              "      <td>2149-05-09 20:54:46</td>\n",
              "      <td>38.888889</td>\n",
              "      <td>1.0</td>\n",
              "      <td>3</td>\n",
              "    </tr>\n",
              "    <tr>\n",
              "      <th>3</th>\n",
              "      <td>17840418</td>\n",
              "      <td>2129-01-14 08:00:00</td>\n",
              "      <td>2129-01-17 16:52:18</td>\n",
              "      <td>38.500000</td>\n",
              "      <td>1.0</td>\n",
              "      <td>2</td>\n",
              "    </tr>\n",
              "    <tr>\n",
              "      <th>4</th>\n",
              "      <td>17590005</td>\n",
              "      <td>2134-03-03 03:47:56</td>\n",
              "      <td>2134-03-06 16:58:23</td>\n",
              "      <td>38.333333</td>\n",
              "      <td>1.0</td>\n",
              "      <td>3</td>\n",
              "    </tr>\n",
              "  </tbody>\n",
              "</table>\n",
              "</div>"
            ],
            "text/plain": [
              "   subject_id              intime             outtime  max_temperature_on_day   \n",
              "0    12088486 2135-02-07 03:03:00 2135-02-12 00:25:00               37.944444  \\\n",
              "1    19850244 2162-06-05 15:25:42 2162-06-09 20:22:03               38.500000   \n",
              "2    10562205 2149-04-30 00:58:00 2149-05-09 20:54:46               38.888889   \n",
              "3    17840418 2129-01-14 08:00:00 2129-01-17 16:52:18               38.500000   \n",
              "4    17590005 2134-03-03 03:47:56 2134-03-06 16:58:23               38.333333   \n",
              "\n",
              "   temperature_proportion  temperature_aggrouped  \n",
              "0                     0.6                      2  \n",
              "1                     1.0                      3  \n",
              "2                     1.0                      3  \n",
              "3                     1.0                      2  \n",
              "4                     1.0                      3  "
            ]
          },
          "execution_count": 31,
          "metadata": {},
          "output_type": "execute_result"
        }
      ],
      "source": [
        "df_final = df_patients.reset_index()[['subject_id', 'intime', 'outtime', 'max_temperature_on_day', 'temperature_proportion', 'temperature_aggrouped']]\n",
        "df_final.head()"
      ]
    },
    {
      "cell_type": "code",
      "execution_count": 32,
      "metadata": {},
      "outputs": [],
      "source": [
        "df_final.to_csv('./data/output/ICUp5Temperature.csv', index=False)"
      ]
    }
  ],
  "metadata": {
    "colab": {
      "provenance": []
    },
    "kernelspec": {
      "display_name": "Python 3",
      "name": "python3"
    },
    "language_info": {
      "codemirror_mode": {
        "name": "ipython",
        "version": 3
      },
      "file_extension": ".py",
      "mimetype": "text/x-python",
      "name": "python",
      "nbconvert_exporter": "python",
      "pygments_lexer": "ipython3",
      "version": "3.11.8"
    }
  },
  "nbformat": 4,
  "nbformat_minor": 0
}
